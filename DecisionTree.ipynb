{
 "cells": [
  {
   "cell_type": "code",
   "execution_count": 58,
   "metadata": {},
   "outputs": [],
   "source": [
    "#Import required packages\n",
    "\n",
    "import pandas as pd\n",
    "from sklearn.tree import DecisionTreeClassifier\n",
    "import numpy as np # linear algebra\n",
    "from sklearn.model_selection import train_test_split"
   ]
  },
  {
   "cell_type": "code",
   "execution_count": 45,
   "metadata": {},
   "outputs": [],
   "source": [
    "trainx = pd.read_csv(\"trainx.csv\")\n",
    "trainy = pd.read_csv(\"trainy.csv\")\n",
    "testx = pd.read_csv(\"testx.csv\")\n",
    "testy = pd.read_csv(\"testy.csv\")\n",
    "\n",
    "trainx = trainx.loc[:, ~trainx.columns.str.contains('^Unnamed')]\n",
    "trainy = trainy.loc[:, ~trainy.columns.str.contains('^Unnamed')]\n",
    "testx = testx.loc[:, ~testx.columns.str.contains('^Unnamed')]\n",
    "testy = testy.loc[:, ~testy.columns.str.contains('^Unnamed')]\n",
    "\n",
    "X = trainx.head(100000).sample(frac=1)\n",
    "Y = trainy.head(100000).sample(frac=1)"
   ]
  },
  {
   "cell_type": "code",
   "execution_count": 62,
   "metadata": {},
   "outputs": [],
   "source": [
    "data = pd.read_csv(\"wh.csv\")\n",
    "data = data.drop(['Formatted Date','Summary','Daily Summary','Loud Cover'],axis=1)\n",
    "data['precip'] = np.where(data['Precip Type']!= 'snow', 1, 0)\n",
    "\n",
    "X = np.array(data.drop(['Precip Type','precip'],axis=1)) #independent variable\n",
    "Y = np.array(data['precip']) #target variable\n",
    "trainx, testx, trainy, testy = train_test_split(X, Y, test_size=0.4, random_state=1999)"
   ]
  },
  {
   "cell_type": "code",
   "execution_count": 70,
   "metadata": {},
   "outputs": [
    {
     "data": {
      "text/html": [
       "<div>\n",
       "<style scoped>\n",
       "    .dataframe tbody tr th:only-of-type {\n",
       "        vertical-align: middle;\n",
       "    }\n",
       "\n",
       "    .dataframe tbody tr th {\n",
       "        vertical-align: top;\n",
       "    }\n",
       "\n",
       "    .dataframe thead th {\n",
       "        text-align: right;\n",
       "    }\n",
       "</style>\n",
       "<table border=\"1\" class=\"dataframe\">\n",
       "  <thead>\n",
       "    <tr style=\"text-align: right;\">\n",
       "      <th></th>\n",
       "      <th>0</th>\n",
       "      <th>0</th>\n",
       "    </tr>\n",
       "  </thead>\n",
       "  <tbody>\n",
       "    <tr>\n",
       "      <th>0</th>\n",
       "      <td>1</td>\n",
       "      <td>1</td>\n",
       "    </tr>\n",
       "    <tr>\n",
       "      <th>1</th>\n",
       "      <td>0</td>\n",
       "      <td>0</td>\n",
       "    </tr>\n",
       "    <tr>\n",
       "      <th>2</th>\n",
       "      <td>1</td>\n",
       "      <td>1</td>\n",
       "    </tr>\n",
       "    <tr>\n",
       "      <th>3</th>\n",
       "      <td>1</td>\n",
       "      <td>1</td>\n",
       "    </tr>\n",
       "    <tr>\n",
       "      <th>4</th>\n",
       "      <td>0</td>\n",
       "      <td>0</td>\n",
       "    </tr>\n",
       "    <tr>\n",
       "      <th>...</th>\n",
       "      <td>...</td>\n",
       "      <td>...</td>\n",
       "    </tr>\n",
       "    <tr>\n",
       "      <th>95</th>\n",
       "      <td>1</td>\n",
       "      <td>1</td>\n",
       "    </tr>\n",
       "    <tr>\n",
       "      <th>96</th>\n",
       "      <td>1</td>\n",
       "      <td>1</td>\n",
       "    </tr>\n",
       "    <tr>\n",
       "      <th>97</th>\n",
       "      <td>1</td>\n",
       "      <td>1</td>\n",
       "    </tr>\n",
       "    <tr>\n",
       "      <th>98</th>\n",
       "      <td>1</td>\n",
       "      <td>1</td>\n",
       "    </tr>\n",
       "    <tr>\n",
       "      <th>99</th>\n",
       "      <td>1</td>\n",
       "      <td>1</td>\n",
       "    </tr>\n",
       "  </tbody>\n",
       "</table>\n",
       "<p>100 rows × 2 columns</p>\n",
       "</div>"
      ],
      "text/plain": [
       "    0  0\n",
       "0   1  1\n",
       "1   0  0\n",
       "2   1  1\n",
       "3   1  1\n",
       "4   0  0\n",
       ".. .. ..\n",
       "95  1  1\n",
       "96  1  1\n",
       "97  1  1\n",
       "98  1  1\n",
       "99  1  1\n",
       "\n",
       "[100 rows x 2 columns]"
      ]
     },
     "execution_count": 70,
     "metadata": {},
     "output_type": "execute_result"
    }
   ],
   "source": [
    "DecisionTreeClassifier().__init__()\n",
    "clf = DecisionTreeClassifier()\n",
    "#clf = clf.__init__(max_depth=20)\n",
    "\n",
    "#This line doesnt seem to stop running on the full dataset?\n",
    "clf = clf.fit(trainx, trainy)\n",
    "clf.score(testx, testy)\n",
    "\n",
    "predicty = clf.predict(testx)\n",
    "predY = pd.DataFrame(data=predicty)\n",
    "\n",
    "testy = pd.DataFrame(data=testy)\n",
    "df= pd.concat([predY, testy], axis=1)\n",
    "df.head(100)"
   ]
  },
  {
   "cell_type": "code",
   "execution_count": 47,
   "metadata": {},
   "outputs": [
    {
     "data": {
      "text/plain": [
       "0.5074127831631331"
      ]
     },
     "execution_count": 47,
     "metadata": {},
     "output_type": "execute_result"
    }
   ],
   "source": [
    "clf.score(testx, testy)"
   ]
  },
  {
   "cell_type": "code",
   "execution_count": 48,
   "metadata": {},
   "outputs": [
    {
     "name": "stdout",
     "output_type": "stream",
     "text": [
      "       0\n",
      "0      0\n",
      "1      0\n",
      "2      0\n",
      "3      1\n",
      "4      1\n",
      "...   ..\n",
      "38577  0\n",
      "38578  1\n",
      "38579  1\n",
      "38580  0\n",
      "38581  1\n",
      "\n",
      "[38582 rows x 1 columns]\n"
     ]
    }
   ],
   "source": [
    "predictx = clf.predict(testx)\n",
    "predX = pd.DataFrame(data=predictx)\n",
    "print(predX)"
   ]
  },
  {
   "cell_type": "code",
   "execution_count": 49,
   "metadata": {},
   "outputs": [
    {
     "name": "stdout",
     "output_type": "stream",
     "text": [
      "       Precip Type\n",
      "0                1\n",
      "1                0\n",
      "2                1\n",
      "3                1\n",
      "4                0\n",
      "...            ...\n",
      "38577            1\n",
      "38578            0\n",
      "38579            1\n",
      "38580            1\n",
      "38581            1\n",
      "\n",
      "[38582 rows x 1 columns]\n"
     ]
    }
   ],
   "source": [
    "print(testy)"
   ]
  },
  {
   "cell_type": "code",
   "execution_count": 50,
   "metadata": {},
   "outputs": [
    {
     "name": "stdout",
     "output_type": "stream",
     "text": [
      "       Temperature (C)  Apparent Temperature (C)  Humidity  Wind Speed (km/h)  \\\n",
      "0             2.105556                 -2.572222      0.67            20.0284   \n",
      "1             0.000000                 -1.583333      0.74             5.0232   \n",
      "2            22.800000                 22.800000      0.53             3.7996   \n",
      "3            18.800000                 18.800000      0.93             3.3327   \n",
      "4            -2.400000                 -2.400000      0.88             4.6046   \n",
      "...                ...                       ...       ...                ...   \n",
      "38577         3.722222                  1.266667      0.84             9.4990   \n",
      "38578        -2.916667                 -2.916667      0.86             1.4812   \n",
      "38579        28.977778                 27.788889      0.29             7.5348   \n",
      "38580        19.238889                 19.238889      0.78            11.2700   \n",
      "38581        17.150000                 17.150000      0.67            17.3236   \n",
      "\n",
      "       Wind Bearing (degrees)  Visibility (km)  Pressure (millibars)  \n",
      "0                        21.0          16.1000               1032.93  \n",
      "1                       352.0          11.2700               1014.93  \n",
      "2                       236.0          11.2056               1007.28  \n",
      "3                       337.0           8.1305               1015.02  \n",
      "4                       340.0           6.0214               1024.54  \n",
      "...                       ...              ...                   ...  \n",
      "38577                   201.0           7.4865               1028.33  \n",
      "38578                   246.0           4.7978               1023.91  \n",
      "38579                   332.0          10.3684               1014.66  \n",
      "38580                    10.0          15.8263               1016.77  \n",
      "38581                   212.0           9.9820               1014.24  \n",
      "\n",
      "[38582 rows x 7 columns]\n"
     ]
    }
   ],
   "source": [
    "print(testx)"
   ]
  },
  {
   "cell_type": "code",
   "execution_count": 51,
   "metadata": {},
   "outputs": [
    {
     "name": "stdout",
     "output_type": "stream",
     "text": [
      "       Precip Type\n",
      "0                1\n",
      "1                0\n",
      "2                1\n",
      "3                1\n",
      "4                0\n",
      "...            ...\n",
      "38577            1\n",
      "38578            0\n",
      "38579            1\n",
      "38580            1\n",
      "38581            1\n",
      "\n",
      "[38582 rows x 1 columns]\n"
     ]
    }
   ],
   "source": [
    "print(testy)"
   ]
  },
  {
   "cell_type": "code",
   "execution_count": 52,
   "metadata": {},
   "outputs": [
    {
     "name": "stdout",
     "output_type": "stream",
     "text": [
      "        Temperature (C)  Apparent Temperature (C)  Humidity  \\\n",
      "0             20.438889                 20.438889  0.880000   \n",
      "1             14.705556                 14.705556  0.430000   \n",
      "2              7.755556                  5.327778  0.740000   \n",
      "3             27.916667                 27.994444  0.460000   \n",
      "4             10.050000                 10.050000  0.770000   \n",
      "...                 ...                       ...       ...   \n",
      "102951        -3.173606                 -9.479514  0.798467   \n",
      "102952        -6.058575                 -6.058575  0.977446   \n",
      "102953        -4.051473                 -6.790153  0.881863   \n",
      "102954        -1.447975                 -3.801885  0.899674   \n",
      "102955        -0.854198                 -3.127161  0.874884   \n",
      "\n",
      "        Wind Speed (km/h)  Wind Bearing (degrees)  Visibility (km)  \\\n",
      "0                3.075100              140.000000        14.763700   \n",
      "1               20.334300              340.000000        10.577700   \n",
      "2               13.829900              160.000000        14.908600   \n",
      "3                9.579500              170.000000        10.046400   \n",
      "4               15.922900              148.000000        10.368400   \n",
      "...                   ...                     ...              ...   \n",
      "102951          21.638374              299.169348        10.770777   \n",
      "102952           3.179575              130.000000         4.232115   \n",
      "102953           6.282000              290.813675         3.950525   \n",
      "102954           6.320693              131.508148         6.580177   \n",
      "102955           6.461056              228.872089        13.458203   \n",
      "\n",
      "        Pressure (millibars)  \n",
      "0                1009.390000  \n",
      "1                1023.580000  \n",
      "2                1016.870000  \n",
      "3                1010.770000  \n",
      "4                 998.530000  \n",
      "...                      ...  \n",
      "102951           1016.741778  \n",
      "102952           1028.925215  \n",
      "102953           1039.112155  \n",
      "102954           1026.053927  \n",
      "102955           1025.137965  \n",
      "\n",
      "[102956 rows x 7 columns]\n"
     ]
    }
   ],
   "source": [
    "print(trainx)"
   ]
  },
  {
   "cell_type": "code",
   "execution_count": 53,
   "metadata": {},
   "outputs": [
    {
     "name": "stdout",
     "output_type": "stream",
     "text": [
      "        Precip Type\n",
      "0                 1\n",
      "1                 1\n",
      "2                 1\n",
      "3                 1\n",
      "4                 1\n",
      "...             ...\n",
      "102951            0\n",
      "102952            0\n",
      "102953            0\n",
      "102954            0\n",
      "102955            0\n",
      "\n",
      "[102956 rows x 1 columns]\n"
     ]
    }
   ],
   "source": [
    "print(trainy)"
   ]
  },
  {
   "cell_type": "code",
   "execution_count": 54,
   "metadata": {},
   "outputs": [
    {
     "name": "stdout",
     "output_type": "stream",
     "text": [
      "[0]\n"
     ]
    }
   ],
   "source": [
    "t = pd.DataFrame({'a':20, 'b':20, 'c':0.85, 'd':3, 'e':140, 'f':14.5, 'g':1000}, index=[0])\n",
    "z = clf.predict(t)\n",
    "\n",
    "print(z)"
   ]
  }
 ],
 "metadata": {
  "kernelspec": {
   "display_name": "Python 3",
   "language": "python",
   "name": "python3"
  },
  "language_info": {
   "codemirror_mode": {
    "name": "ipython",
    "version": 3
   },
   "file_extension": ".py",
   "mimetype": "text/x-python",
   "name": "python",
   "nbconvert_exporter": "python",
   "pygments_lexer": "ipython3",
   "version": "3.7.9"
  }
 },
 "nbformat": 4,
 "nbformat_minor": 4
}
